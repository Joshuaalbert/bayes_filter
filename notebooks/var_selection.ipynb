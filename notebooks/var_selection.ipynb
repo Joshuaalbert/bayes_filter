{
 "cells": [
  {
   "cell_type": "code",
   "execution_count": 67,
   "metadata": {},
   "outputs": [],
   "source": [
    "import numpy as np\n",
    "from scipy.spatial.distance import cdist\n",
    "from scipy.integrate import simps\n",
    "\n",
    "def sample_tec(var, a,b,l,mean=2e12,N=1000):\n",
    "    X = 1000.*np.linspace(a-0.5*b, a+0.5*b,1000)[:,None]\n",
    "    X2 = cdist(X/(l*1000.),X/(l*1000.))\n",
    "    K = np.sqrt(var)*np.linalg.cholesky(np.exp(-0.5*X2) + 1e-6*np.eye(1000))\n",
    "    ne = mean+np.einsum('ab,bc->ac',K,np.random.normal(size=(1000,N)))\n",
    "    tec = simps(ne,X[:,0],axis=0)/1e16\n",
    "    \n",
    "    return np.mean(tec), np.std(tec)\n",
    "    \n",
    "    "
   ]
  },
  {
   "cell_type": "code",
   "execution_count": 68,
   "metadata": {},
   "outputs": [],
   "source": [
    "var_array = 10**np.linspace(9.,12.,10)\n",
    "b_array = np.linspace(40,200,10)\n",
    "hwhm_array = np.linspace(1.,20.,20)\n",
    "res = np.zeros((10,10,20,2))\n",
    "for i,v in enumerate(var_array):\n",
    "    for j,b in enumerate(b_array):\n",
    "        for k,h in enumerate(hwhm_array):\n",
    "            res[i,j,k,:] = sample_tec(v**2, 350, b,h,2e12)"
   ]
  },
  {
   "cell_type": "code",
   "execution_count": 69,
   "metadata": {},
   "outputs": [],
   "source": [
    "r = res[...,1]/res[...,0]\n",
    "mask1 = np.abs(res[...,0] - 15.) < 5.#10 -- 20\n",
    "mask2 = np.abs(res[...,1] - 0.3) < 0.2#0.1 -- 0.5\n",
    "\n",
    "where = np.where(np.logical_and(mask1, mask2))\n",
    "# print(list(zip(var_array[where[0]], b_array[where[1]], hwhm_array[where[2]])))"
   ]
  },
  {
   "cell_type": "code",
   "execution_count": 73,
   "metadata": {},
   "outputs": [
    {
     "data": {
      "image/png": "[encoded data removed]",
      "text/plain": [
       "<Figure size 432x288 with 1 Axes>"
      ]
     },
     "metadata": {
      "needs_background": "light"
     },
     "output_type": "display_data"
    },
    {
     "name": "stdout",
     "output_type": "stream",
     "text": [
      "[ 2.15443469  4.64158883 10.        ]\n"
     ]
    }
   ],
   "source": [
    "import pylab as plt\n",
    "plt.hist(var_array[where[0]],bins=var_array)\n",
    "plt.xscale('log')\n",
    "plt.show()\n",
    "print(np.percentile(var_array[where[0]],[10,50,90])/1e10)"
   ]
  },
  {
   "cell_type": "code",
   "execution_count": 74,
   "metadata": {},
   "outputs": [
    {
     "data": {
      "image/png": "[encoded data removed]",
      "text/plain": [
       "<Figure size 432x288 with 1 Axes>"
      ]
     },
     "metadata": {
      "needs_background": "light"
     },
     "output_type": "display_data"
    }
   ],
   "source": [
    "plt.hist(b_array[where[1]],bins=b_array)\n",
    "plt.show()"
   ]
  },
  {
   "cell_type": "code",
   "execution_count": 75,
   "metadata": {},
   "outputs": [
    {
     "data": {
      "image/png": "[encoded data removed]",
      "text/plain": [
       "<Figure size 432x288 with 1 Axes>"
      ]
     },
     "metadata": {
      "needs_background": "light"
     },
     "output_type": "display_data"
    }
   ],
   "source": [
    "plt.hist(hwhm_array[where[2]],bins=hwhm_array)\n",
    "plt.show()"
   ]
  },
  {
   "cell_type": "code",
   "execution_count": null,
   "metadata": {},
   "outputs": [],
   "source": [
    "def sample_mvn(K_unconditioned, N=1):\n",
    "    \"\"\"\n",
    "    Sample N realisations from the GP.\n",
    "    \n",
    "    :param K_unconditioned: float, array, [M,M]\n",
    "        covariance matrix unconditioned.\n",
    "    :param N: int\n",
    "        number of realisations\n",
    "    :return: float, array, [M, N]\n",
    "        N realisations of length M\n",
    "    \"\"\"\n",
    "    s = np.mean(np.diag(K_unconditioned))\n",
    "    L = np.sqrt(s)*np.linalg.cholesky(K_unconditioned/s + 1e-6*np.eye(K_unconditioned.shape[-1]))\n",
    "    return np.einsum(\"ab,bc->ac\",L,np.random.normal(size=(L.shape[-1], N)))"
   ]
  },
  {
   "cell_type": "code",
   "execution_count": 78,
   "metadata": {},
   "outputs": [],
   "source": [
    "from bayes_filter.datapack import DataPack\n",
    "\n",
    "with DataPack('/home/albert/git/bayes_tec/scripts/data/P126+65_compact_full_raw.h5', readonly=True) as datapack:\n",
    "    datapack.select(pol=slice(0,1,1))\n",
    "    phase,axes = datapack.phase\n",
    "    _,freqs = datapack.get_freqs(axes['freq'])\n",
    "    tec = np.std(np.mean(phase*freqs[:,None]/-8.448e9,axis=-2))\n",
    "    "
   ]
  },
  {
   "cell_type": "code",
   "execution_count": 79,
   "metadata": {},
   "outputs": [
    {
     "data": {
      "text/plain": [
       "0.005308936422696921"
      ]
     },
     "execution_count": 79,
     "metadata": {},
     "output_type": "execute_result"
    }
   ],
   "source": [
    "tec"
   ]
  },
  {
   "cell_type": "code",
   "execution_count": null,
   "metadata": {},
   "outputs": [],
   "source": []
  }
 ],
 "metadata": {
  "kernelspec": {
   "display_name": "Python 3",
   "language": "python",
   "name": "python3"
  },
  "language_info": {
   "codemirror_mode": {
    "name": "ipython",
    "version": 3
   },
   "file_extension": ".py",
   "mimetype": "text/x-python",
   "name": "python",
   "nbconvert_exporter": "python",
   "pygments_lexer": "ipython3",
   "version": "3.7.2"
  }
 },
 "nbformat": 4,
 "nbformat_minor": 2
}
