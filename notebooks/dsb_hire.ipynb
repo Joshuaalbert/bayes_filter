{
 "cells": [
  {
   "cell_type": "code",
   "execution_count": 1,
   "metadata": {},
   "outputs": [],
   "source": [
    "import numpy as np\n",
    "import pylab as plt"
   ]
  },
  {
   "cell_type": "code",
   "execution_count": 7,
   "metadata": {},
   "outputs": [
    {
     "data": {
      "text/plain": [
       "array([nan, nan, nan, nan, nan, nan, nan, nan, nan, nan, nan, nan, nan,\n",
       "       nan, nan, nan, nan, nan])"
      ]
     },
     "execution_count": 7,
     "metadata": {},
     "output_type": "execute_result"
    }
   ],
   "source": [
    "np.genfromtxt('/home/albert/git/bayes_filter/notebooks/dsb hire scores.csv', usecols=[0],delimiter=',', skip_header=1)"
   ]
  },
  {
   "cell_type": "code",
   "execution_count": 45,
   "metadata": {},
   "outputs": [],
   "source": [
    "# name,reviewer,eloquence,technical,complete,realistic,overall\n",
    "data = np.array([['Chula',0,5,4,5,4,4.5],\n",
    "['Chula',1,5,5,5,4,4.8],\n",
    "['Andy',1,1,5,4,np.nan,2],\n",
    "['Naum',0,4,3.5,2,3,3],\n",
    "['Naum',1,3,5,2,1,2],\n",
    "['Michal',0,5,3,2,5,np.nan],\n",
    "['Michal',1,4,4,3,4,4],\n",
    "['Vladmir',0,4,3,3,4,3.5],\n",
    "['Vladmir',1,5,5,5,4,4.8],\n",
    "['Neeraj',0,5,3,4,4,4],\n",
    "['Neeraj',1,3,4,2,3,3],\n",
    "['Aleksandar',0,4.5,4.5,4,4,4.25],\n",
    "# ['Aleksandar',2,4.5,4.5,4.5,np.nan,4.5],\n",
    "['Aleksandar',1,5,5,4,np.nan,4],\n",
    "['Jose',0,5,4,3,3.5,3.9],\n",
    "['Jose',1,1,3,2,np.nan,2],\n",
    "['Andrija',0,5,3.5,4,3.5,np.nan],\n",
    "['Andrija',1,4,5,3,5,4]])"
   ]
  },
  {
   "cell_type": "code",
   "execution_count": 46,
   "metadata": {},
   "outputs": [],
   "source": [
    "names,nid = np.unique(data[:,0],return_inverse=True)"
   ]
  },
  {
   "cell_type": "code",
   "execution_count": 47,
   "metadata": {},
   "outputs": [],
   "source": [
    "rev, rid = np.unique(data[:,1],return_inverse=True)"
   ]
  },
  {
   "cell_type": "code",
   "execution_count": 65,
   "metadata": {},
   "outputs": [
    {
     "name": "stdout",
     "output_type": "stream",
     "text": [
      "Aleksandar\n",
      "eloquence 3.3000770344159287\n",
      "technical 4.214529085906915\n",
      "complete 3.603645528769169\n",
      "realistic 3.2294157338705616\n",
      "overall 3.6689446060156268\n",
      "\n",
      "Andrija\n",
      "eloquence 3.5499748079100115\n",
      "technical 3.2651037593518324\n",
      "complete 3.1706328268769495\n",
      "realistic 3.2519159598734273\n",
      "overall 3.5417363388859613\n",
      "\n",
      "Andy\n",
      "eloquence 1.3692515033455772\n",
      "technical 3.6488856845230506\n",
      "complete 3.5773502691896257\n",
      "realistic nan\n",
      "overall 1.735948542599423\n",
      "\n",
      "Chula\n",
      "eloquence 3.8835370004075074\n",
      "technical 3.739816422629374\n",
      "complete 4.540610861340358\n",
      "realistic 3.3133877204950375\n",
      "overall 4.284193507766113\n",
      "\n",
      "Jose\n",
      "eloquence 2.549288230417525\n",
      "technical 2.279823632452511\n",
      "complete 2.2336674943057604\n",
      "realistic 2.311752798388315\n",
      "overall 2.4103228283819083\n",
      "\n",
      "Michal\n",
      "eloquence 3.5499748079100115\n",
      "technical 2.06039470098586\n",
      "complete 2.16272756551901\n",
      "realistic 4.231050655977285\n",
      "overall 3.5417363388859613\n",
      "\n",
      "Naum\n",
      "eloquence 2.0494926834293596\n",
      "technical 3.2651037593518324\n",
      "complete 1.729714863626791\n",
      "realistic 1.203645663654251\n",
      "overall 1.4955939954064665\n",
      "\n",
      "Neeraj\n",
      "eloquence 3.216412615412516\n",
      "technical 2.06039470098586\n",
      "complete 2.7376201249847303\n",
      "realistic 2.916028013375524\n",
      "overall 2.9634063144508143\n",
      "\n",
      "Vladmir\n",
      "eloquence 2.7166170684243505\n",
      "technical 2.7903910960742913\n",
      "complete 3.5327055999824184\n",
      "realistic 3.3133877204950375\n",
      "overall 3.2678281377933995\n",
      "\n",
      "eloquence Chula\n",
      "technical Aleksandar\n",
      "complete Chula\n",
      "realistic Michal\n",
      "overall Chula\n",
      "Chula\n",
      "['Chula' 'Aleksandar' 'Andrija' 'Vladmir' 'Michal' 'Neeraj' 'Andy' 'Jose'\n",
      " 'Naum']\n",
      "Naum\n"
     ]
    },
    {
     "name": "stderr",
     "output_type": "stream",
     "text": [
      "/home/albert/miniconda3/envs/bayes_filter/lib/python3.7/site-packages/ipykernel_launcher.py:15: RuntimeWarning: Mean of empty slice\n",
      "  from ipykernel import kernelapp as app\n",
      "/home/albert/miniconda3/envs/bayes_filter/lib/python3.7/site-packages/ipykernel_launcher.py:16: RuntimeWarning: Mean of empty slice\n",
      "  app.launch_new_instance()\n"
     ]
    }
   ],
   "source": [
    "el,te,co,re,ov = data[:,2:].astype(np.float).T\n",
    "data_ = [el,te,co,re,ov]\n",
    "for d in data_:\n",
    "    for i in [0,1]:\n",
    "        idx = rid == i\n",
    "        d[idx] -= np.nanmean(d[idx])\n",
    "        d[idx] /= np.nanstd(d[idx])\n",
    "\n",
    "out = []\n",
    "for n in range(len(names)):\n",
    "    print(names[n])\n",
    "    idx = nid == n\n",
    "    row = []\n",
    "    for h,d in zip(['eloquence','technical','complete','realistic','overall'],data_):\n",
    "        print(h,np.nanmean(d[idx])+3)\n",
    "        row.append(np.nanmean(d[idx])+3)\n",
    "    out.append(row)\n",
    "    print()\n",
    "    \n",
    "out = np.array(out)\n",
    "for i,h in enumerate(['eloquence','technical','complete','realistic','overall']):\n",
    "    print(h,names[np.nanargmax(out[:,i])])\n",
    "    \n",
    "print(names[np.argmax(np.nanmean(out,axis=1))])\n",
    "print(names[np.argsort(np.nanmean(out,axis=1))][::-1])\n",
    "print(names[np.argmin(np.nanmean(out,axis=1))])"
   ]
  },
  {
   "cell_type": "code",
   "execution_count": 54,
   "metadata": {},
   "outputs": [
    {
     "data": {
      "text/plain": [
       "[[3.3000770344159287,\n",
       "  4.214529085906915,\n",
       "  3.603645528769169,\n",
       "  3.2294157338705616,\n",
       "  3.6689446060156268],\n",
       " [3.5499748079100115,\n",
       "  3.2651037593518324,\n",
       "  3.1706328268769495,\n",
       "  3.2519159598734273,\n",
       "  3.5417363388859613],\n",
       " [1.3692515033455772,\n",
       "  3.6488856845230506,\n",
       "  3.5773502691896257,\n",
       "  nan,\n",
       "  1.735948542599423],\n",
       " [3.8835370004075074,\n",
       "  3.739816422629374,\n",
       "  4.540610861340358,\n",
       "  3.3133877204950375,\n",
       "  4.284193507766113],\n",
       " [2.549288230417525,\n",
       "  2.279823632452511,\n",
       "  2.2336674943057604,\n",
       "  2.311752798388315,\n",
       "  2.4103228283819083],\n",
       " [3.5499748079100115,\n",
       "  2.06039470098586,\n",
       "  2.16272756551901,\n",
       "  4.231050655977285,\n",
       "  3.5417363388859613],\n",
       " [2.0494926834293596,\n",
       "  3.2651037593518324,\n",
       "  1.729714863626791,\n",
       "  1.203645663654251,\n",
       "  1.4955939954064665],\n",
       " [3.216412615412516,\n",
       "  2.06039470098586,\n",
       "  2.7376201249847303,\n",
       "  2.916028013375524,\n",
       "  2.9634063144508143],\n",
       " [2.7166170684243505,\n",
       "  2.7903910960742913,\n",
       "  3.5327055999824184,\n",
       "  3.3133877204950375,\n",
       "  3.2678281377933995]]"
      ]
     },
     "execution_count": 54,
     "metadata": {},
     "output_type": "execute_result"
    }
   ],
   "source": [
    "out"
   ]
  },
  {
   "cell_type": "code",
   "execution_count": 33,
   "metadata": {},
   "outputs": [
    {
     "data": {
      "text/plain": [
       "array([0, 1, 1, 0, 1, 0, 1, 0, 1, 0, 1, 0, 1, 0, 1, 0, 1])"
      ]
     },
     "execution_count": 33,
     "metadata": {},
     "output_type": "execute_result"
    }
   ],
   "source": [
    "rid"
   ]
  },
  {
   "cell_type": "code",
   "execution_count": null,
   "metadata": {},
   "outputs": [],
   "source": []
  },
  {
   "cell_type": "code",
   "execution_count": null,
   "metadata": {},
   "outputs": [],
   "source": []
  }
 ],
 "metadata": {
  "kernelspec": {
   "display_name": "Python 3",
   "language": "python",
   "name": "python3"
  },
  "language_info": {
   "codemirror_mode": {
    "name": "ipython",
    "version": 3
   },
   "file_extension": ".py",
   "mimetype": "text/x-python",
   "name": "python",
   "nbconvert_exporter": "python",
   "pygments_lexer": "ipython3",
   "version": "3.7.2"
  }
 },
 "nbformat": 4,
 "nbformat_minor": 2
}
